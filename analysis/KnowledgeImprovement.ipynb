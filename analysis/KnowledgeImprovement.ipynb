{
 "cells": [
  {
   "cell_type": "markdown",
   "metadata": {},
   "source": [
    "# Knowledge Improvement analysis\n",
    "In this anaysis, we study the impact of the use of the didactalia and the AFEL application on the knowledge improvement."
   ]
  },
  {
   "cell_type": "markdown",
   "metadata": {},
   "source": [
    "# Import & Constants"
   ]
  },
  {
   "cell_type": "code",
   "execution_count": 1,
   "metadata": {},
   "outputs": [],
   "source": [
    "from SPARQLWrapper import SPARQLWrapper, CSV\n",
    "from rdflib import Literal\n",
    "import numpy as np\n",
    "import pandas as pd\n",
    "from io import BytesIO\n",
    "import gc\n",
    "import matplotlib.pyplot as plt\n",
    "import seaborn as sns\n",
    "from sklearn.preprocessing import Normalizer\n",
    "from scipy.stats import pearsonr"
   ]
  },
  {
   "cell_type": "markdown",
   "metadata": {},
   "source": [
    "## Here are the constants you might want to change !"
   ]
  },
  {
   "cell_type": "code",
   "execution_count": 2,
   "metadata": {},
   "outputs": [],
   "source": [
    "FUSEKI_DATASET = \"evalafel2\" # Change according your own dataset name\n",
    "SPARQL_ENDPOINT = \"http://localhost:3030/%s/query\" % FUSEKI_DATASET"
   ]
  },
  {
   "cell_type": "code",
   "execution_count": 3,
   "metadata": {},
   "outputs": [],
   "source": [
    "SPARQL_PREFIX = \"\"\"\n",
    "    PREFIX xsd: <http://www.w3.org/2001/XMLSchema#>\n",
    "    PREFIX rdf: <http://www.w3.org/1999/02/22-rdf-syntax-ns#>\n",
    "    PREFIX rdfs: <http://www.w3.org/2000/01/rdf-schema#>\n",
    "    PREFIX afl: <http://vocab.afel-project.eu/>\n",
    "    PREFIX extafl: <http://vocab.afel-project.eu/extension/>\n",
    "    PREFIX sch: <http://schema.org/>\n",
    "    \n",
    "\"\"\""
   ]
  },
  {
   "cell_type": "code",
   "execution_count": 4,
   "metadata": {},
   "outputs": [],
   "source": [
    "# Setting seaborn to have proper visualisation adapted to jupyter notebook\n",
    "sns.set_context(\"notebook\", font_scale=1.5, rc={\"lines.linewidth\": 2.5})"
   ]
  },
  {
   "cell_type": "markdown",
   "metadata": {},
   "source": [
    "# Data Retrieval"
   ]
  },
  {
   "cell_type": "code",
   "execution_count": 5,
   "metadata": {},
   "outputs": [],
   "source": [
    "def sparql_to_dataframe(query):\n",
    "    sparql = SPARQLWrapper(SPARQL_ENDPOINT)\n",
    "    sparql.setQuery(query)\n",
    "    sparql.setReturnFormat(CSV)\n",
    "    res = sparql.query().convert()\n",
    "    try:\n",
    "        with BytesIO(res) as sio:\n",
    "            return pd.read_csv(sio)\n",
    "    finally:\n",
    "        del res\n",
    "        gc.collect()"
   ]
  },
  {
   "cell_type": "code",
   "execution_count": 6,
   "metadata": {},
   "outputs": [],
   "source": [
    "def get_knowledge_cognitive_tests():\n",
    "    query = SPARQL_PREFIX + \"\"\"\n",
    "    SELECT ?username ?questionID ?ratingValue ?time\n",
    "    WHERE { \n",
    "      $action a sch:ChooseAction .\n",
    "      $action sch:endTime ?time .\n",
    "      $action sch:actionOption $rating .\n",
    "      $rating sch:ratingValue ?ratingValue .\n",
    "      $action sch:object $question .\n",
    "      $question sch:identifier ?questionID .\n",
    "      $question sch:isPartOf $questionnaire .\n",
    "      $rating sch:author $user .\n",
    "      $user afl:userName ?username .\n",
    "      FILTER regex(?questionID, \"^AFEL_2_KNOW\") .\n",
    "    }\n",
    "    \"\"\"\n",
    "    return sparql_to_dataframe(query)"
   ]
  },
  {
   "cell_type": "code",
   "execution_count": 7,
   "metadata": {},
   "outputs": [],
   "source": [
    "def get_user_activities_counts(min_date, max_date):\n",
    "    query = SPARQL_PREFIX + \"\"\"\n",
    "    SELECT ?username ?activityType ?location (COUNT(?time) AS ?count)\n",
    "    WHERE {\n",
    "        $activity rdf:type ?activityType .\n",
    "        $activity afl:user $user .\n",
    "        $activity afl:eventEndDate ?time .\n",
    "        $activity sch:location ?location .\n",
    "        $user afl:userName ?username .\n",
    "        FILTER(?activityType IN (afl:ArtifactView, extafl:DidactaliaGamePlayed, extafl:Search, extafl:RecommendedActivityView)) .\n",
    "        FILTER(?time >= \"%s\"^^xsd:dateTime && ?time <= \"%s\"^^xsd:dateTime) .\n",
    "    }\n",
    "    GROUP BY ?username ?activityType ?location\n",
    "    \"\"\" % (str(Literal(min_date)), str(Literal(max_date)))\n",
    "    return sparql_to_dataframe(query)"
   ]
  },
  {
   "cell_type": "code",
   "execution_count": 8,
   "metadata": {},
   "outputs": [],
   "source": [
    "df_know_tests = get_knowledge_cognitive_tests()"
   ]
  },
  {
   "cell_type": "code",
   "execution_count": 9,
   "metadata": {},
   "outputs": [],
   "source": [
    "df_activities = get_user_activities_counts(df_know_tests.time.min(), df_know_tests.time.max())"
   ]
  },
  {
   "cell_type": "markdown",
   "metadata": {},
   "source": [
    "# Data Preprocessing"
   ]
  },
  {
   "cell_type": "markdown",
   "metadata": {},
   "source": [
    "## Clean fields"
   ]
  },
  {
   "cell_type": "markdown",
   "metadata": {},
   "source": [
    "### Convert usernames to ids"
   ]
  },
  {
   "cell_type": "code",
   "execution_count": 10,
   "metadata": {},
   "outputs": [],
   "source": [
    "df_know_tests['userid'] = np.vectorize(int)(df_know_tests.username.str.extract('project.afel\\+(\\d+)', expand=False))"
   ]
  },
  {
   "cell_type": "code",
   "execution_count": 11,
   "metadata": {},
   "outputs": [],
   "source": [
    "df_activities['userid'] = np.vectorize(int)(df_activities.username.str.extract('project.afel\\+(\\d+)', expand=False))"
   ]
  },
  {
   "cell_type": "markdown",
   "metadata": {},
   "source": [
    "### Get rid of useless columns"
   ]
  },
  {
   "cell_type": "code",
   "execution_count": 12,
   "metadata": {},
   "outputs": [],
   "source": [
    "for cl in filter(lambda x: hasattr(df_know_tests, x), ['time', 'username']):\n",
    "    del df_know_tests[cl]"
   ]
  },
  {
   "cell_type": "code",
   "execution_count": 13,
   "metadata": {},
   "outputs": [],
   "source": [
    "for cl in filter(lambda x: hasattr(df_activities, x), ['username',]):\n",
    "    del df_activities[cl]"
   ]
  },
  {
   "cell_type": "markdown",
   "metadata": {},
   "source": [
    "## Compute knowledge delta and min/mean/max by user"
   ]
  },
  {
   "cell_type": "markdown",
   "metadata": {},
   "source": [
    "split knowledge df into 4 : pre and post test, in hist and geo"
   ]
  },
  {
   "cell_type": "code",
   "execution_count": 14,
   "metadata": {},
   "outputs": [],
   "source": [
    "df_pre_geo = df_know_tests.loc[df_know_tests.questionID.str.startswith('AFEL_2_KNOW_PRE_GEO'),:].copy()"
   ]
  },
  {
   "cell_type": "code",
   "execution_count": 15,
   "metadata": {},
   "outputs": [],
   "source": [
    "df_pre_hist = df_know_tests.loc[df_know_tests.questionID.str.startswith('AFEL_2_KNOW_PRE_HIST'),:].copy()"
   ]
  },
  {
   "cell_type": "code",
   "execution_count": 16,
   "metadata": {},
   "outputs": [],
   "source": [
    "df_post_geo = df_know_tests.loc[df_know_tests.questionID.str.startswith('AFEL_2_KNOW_POST_GEO'),:].copy()"
   ]
  },
  {
   "cell_type": "code",
   "execution_count": 17,
   "metadata": {},
   "outputs": [],
   "source": [
    "df_post_hist = df_know_tests.loc[df_know_tests.questionID.str.startswith('AFEL_2_KNOW_POST_HIST'),:].copy()"
   ]
  },
  {
   "cell_type": "markdown",
   "metadata": {},
   "source": [
    "Create catid column, that contains only the question id suffix"
   ]
  },
  {
   "cell_type": "code",
   "execution_count": 18,
   "metadata": {},
   "outputs": [],
   "source": [
    "for df in (df_pre_geo, df_pre_hist, df_post_geo, df_post_hist):\n",
    "    df['catid'] = df.questionID.str.extract('AFEL_2_KNOW_(?:PRE|POST)_(?:GEO|HIST)_(.*)', expand=False)\n",
    "    del df['questionID']"
   ]
  },
  {
   "cell_type": "markdown",
   "metadata": {},
   "source": [
    "Create pivots table to have different catid as columns"
   ]
  },
  {
   "cell_type": "code",
   "execution_count": 19,
   "metadata": {},
   "outputs": [],
   "source": [
    "df_pre_geo = df_pre_geo.pivot(index='userid', columns='catid', values='ratingValue')\n",
    "df_pre_hist = df_pre_hist.pivot(index='userid', columns='catid', values='ratingValue')\n",
    "df_post_geo = df_post_geo.pivot(index='userid', columns='catid', values='ratingValue')\n",
    "df_post_hist = df_post_hist.pivot(index='userid', columns='catid', values='ratingValue')"
   ]
  },
  {
   "cell_type": "markdown",
   "metadata": {},
   "source": [
    "Compute difference (ok as it use the userid index to do the proper mapping)"
   ]
  },
  {
   "cell_type": "code",
   "execution_count": 20,
   "metadata": {},
   "outputs": [],
   "source": [
    "df_diff_geo = df_post_geo - df_pre_geo\n",
    "df_diff_hist = df_post_hist - df_pre_hist"
   ]
  },
  {
   "cell_type": "markdown",
   "metadata": {},
   "source": [
    "Remove user that have not complete either one of the test (appears as NaN lines)"
   ]
  },
  {
   "cell_type": "code",
   "execution_count": 21,
   "metadata": {},
   "outputs": [],
   "source": [
    "df_diff_geo.dropna(inplace=True)\n",
    "df_diff_hist.dropna(inplace=True)"
   ]
  },
  {
   "cell_type": "markdown",
   "metadata": {},
   "source": [
    "Compute min, max and mean diff for each user"
   ]
  },
  {
   "cell_type": "code",
   "execution_count": 22,
   "metadata": {},
   "outputs": [],
   "source": [
    "df_know_geo_stats = df_diff_geo.apply(axis=1, func=lambda x: {'minKnow':x.min(), 'meanKnow':x.mean(), 'maxKnow':x.max()}, \n",
    "                                  result_type='expand')\n",
    "df_know_hist_stats = df_diff_hist.apply(axis=1, func=lambda x: {'minKnow':x.min(), 'meanKnow':x.mean(), 'maxKnow':x.max()}, \n",
    "                                  result_type='expand')"
   ]
  },
  {
   "cell_type": "markdown",
   "metadata": {},
   "source": [
    "Do some cleanup"
   ]
  },
  {
   "cell_type": "code",
   "execution_count": 23,
   "metadata": {},
   "outputs": [],
   "source": [
    "del df_diff_geo, df_diff_hist, df_pre_geo, df_pre_hist, df_post_geo, df_post_hist"
   ]
  },
  {
   "cell_type": "code",
   "execution_count": 24,
   "metadata": {},
   "outputs": [
    {
     "data": {
      "text/plain": [
       "83"
      ]
     },
     "execution_count": 24,
     "metadata": {},
     "output_type": "execute_result"
    }
   ],
   "source": [
    "gc.collect()"
   ]
  },
  {
   "cell_type": "markdown",
   "metadata": {},
   "source": [
    "## Compute indicators for users' activities"
   ]
  },
  {
   "cell_type": "markdown",
   "metadata": {},
   "source": [
    "Compute catid based on qname of activity type and location (didactlia or afel)"
   ]
  },
  {
   "cell_type": "code",
   "execution_count": 25,
   "metadata": {},
   "outputs": [],
   "source": [
    "df_activities.activityType = df_activities.activityType.str.split('/').str.get(-1).str.lower()"
   ]
  },
  {
   "cell_type": "code",
   "execution_count": 26,
   "metadata": {},
   "outputs": [],
   "source": [
    "df_activities['catid'] = df_activities.activityType + '_' + df_activities.location.apply(\n",
    "    func=lambda x: 'didactalia' if x == 'https://didactalia.net' else 'afel')"
   ]
  },
  {
   "cell_type": "code",
   "execution_count": 27,
   "metadata": {},
   "outputs": [],
   "source": [
    "del df_activities['activityType'], df_activities['location']"
   ]
  },
  {
   "cell_type": "markdown",
   "metadata": {},
   "source": [
    "Pivot table by activity type with replacement of missing value by 0"
   ]
  },
  {
   "cell_type": "code",
   "execution_count": 28,
   "metadata": {
    "scrolled": true
   },
   "outputs": [],
   "source": [
    "df_act_pivot = df_activities.pivot_table(index='userid', columns='catid', values='count', fill_value=0.)"
   ]
  },
  {
   "cell_type": "markdown",
   "metadata": {},
   "source": [
    "Compute total number of activity and ratio afel/total"
   ]
  },
  {
   "cell_type": "code",
   "execution_count": 29,
   "metadata": {},
   "outputs": [],
   "source": [
    "df_act_pivot['totalAct'] = df_act_pivot.sum(axis=1)"
   ]
  },
  {
   "cell_type": "code",
   "execution_count": 30,
   "metadata": {},
   "outputs": [],
   "source": [
    "df_act_pivot['afelActRatio'] = \\\n",
    "df_act_pivot.apply(axis=1, func=lambda x: sum(x[c] for c in filter(lambda x: x.endswith('afel'), \n",
    "                                                                   df_act_pivot.columns)) / x['totalAct'])"
   ]
  },
  {
   "cell_type": "markdown",
   "metadata": {},
   "source": [
    "Create activity stats final df"
   ]
  },
  {
   "cell_type": "code",
   "execution_count": 31,
   "metadata": {},
   "outputs": [],
   "source": [
    "df_act_stats = df_act_pivot.loc[:, ['totalAct', 'afelActRatio']].copy()"
   ]
  },
  {
   "cell_type": "markdown",
   "metadata": {},
   "source": [
    "Do some cleanup"
   ]
  },
  {
   "cell_type": "code",
   "execution_count": 32,
   "metadata": {},
   "outputs": [],
   "source": [
    "del df_act_pivot"
   ]
  },
  {
   "cell_type": "code",
   "execution_count": 33,
   "metadata": {},
   "outputs": [
    {
     "data": {
      "text/plain": [
       "98"
      ]
     },
     "execution_count": 33,
     "metadata": {},
     "output_type": "execute_result"
    }
   ],
   "source": [
    "gc.collect()"
   ]
  },
  {
   "cell_type": "markdown",
   "metadata": {},
   "source": [
    "## Merging and concat stats"
   ]
  },
  {
   "cell_type": "code",
   "execution_count": 34,
   "metadata": {},
   "outputs": [],
   "source": [
    "df_geo_stats = pd.merge(df_know_geo_stats, df_act_stats, how='left', on='userid', validate='one_to_one')"
   ]
  },
  {
   "cell_type": "code",
   "execution_count": 35,
   "metadata": {},
   "outputs": [],
   "source": [
    "df_geo_stats.dropna(inplace=True)"
   ]
  },
  {
   "cell_type": "code",
   "execution_count": 36,
   "metadata": {},
   "outputs": [],
   "source": [
    "df_hist_stats = pd.merge(df_know_hist_stats, df_act_stats, how='left', on='userid', validate='one_to_one')"
   ]
  },
  {
   "cell_type": "code",
   "execution_count": 37,
   "metadata": {},
   "outputs": [],
   "source": [
    "df_hist_stats.dropna(inplace=True)"
   ]
  },
  {
   "cell_type": "markdown",
   "metadata": {},
   "source": [
    "Build a single dataset with all stats, ingoring the usersid"
   ]
  },
  {
   "cell_type": "code",
   "execution_count": 38,
   "metadata": {},
   "outputs": [],
   "source": [
    "df_full_stats = pd.concat((df_geo_stats, df_hist_stats), axis=0, ignore_index=True)"
   ]
  },
  {
   "cell_type": "markdown",
   "metadata": {},
   "source": [
    "# Distribution analysis"
   ]
  },
  {
   "cell_type": "code",
   "execution_count": 39,
   "metadata": {},
   "outputs": [
    {
     "data": {
      "text/plain": [
       "Index(['maxKnow', 'meanKnow', 'minKnow', 'totalAct', 'afelActRatio'], dtype='object')"
      ]
     },
     "execution_count": 39,
     "metadata": {},
     "output_type": "execute_result"
    }
   ],
   "source": [
    "df_full_stats.columns"
   ]
  },
  {
   "cell_type": "code",
   "execution_count": 40,
   "metadata": {},
   "outputs": [
    {
     "data": {
      "text/plain": [
       "<matplotlib.axes._subplots.AxesSubplot at 0x1195ecf98>"
      ]
     },
     "execution_count": 40,
     "metadata": {},
     "output_type": "execute_result"
    },
    {
     "data": {
      "image/png": "[encoded data removed]",
      "text/plain": [
       "<Figure size 720x360 with 2 Axes>"
      ]
     },
     "metadata": {},
     "output_type": "display_data"
    }
   ],
   "source": [
    "f, axes = plt.subplots(1, 2, figsize=(10, 5), sharex=True)\n",
    "sns.distplot(df_full_stats.totalAct, hist=False, rug=True, color=\"r\", ax=axes[0])\n",
    "sns.distplot(df_full_stats.afelActRatio, hist=False, rug=True, color=\"b\", ax=axes[1])"
   ]
  },
  {
   "cell_type": "code",
   "execution_count": 41,
   "metadata": {},
   "outputs": [
    {
     "data": {
      "text/plain": [
       "<matplotlib.axes._subplots.AxesSubplot at 0x11985f4e0>"
      ]
     },
     "execution_count": 41,
     "metadata": {},
     "output_type": "execute_result"
    },
    {
     "data": {
      "image/png": "[encoded data removed]",
      "text/plain": [
       "<Figure size 720x360 with 3 Axes>"
      ]
     },
     "metadata": {},
     "output_type": "display_data"
    }
   ],
   "source": [
    "f, axes = plt.subplots(1, 3, figsize=(10, 5), sharex=True)\n",
    "sns.distplot(df_full_stats.minKnow, hist=False, rug=True, color=\"r\", ax=axes[0])\n",
    "sns.distplot(df_full_stats.maxKnow, hist=False, rug=True, color=\"b\", ax=axes[1])\n",
    "sns.distplot(df_full_stats.meanKnow, hist=False, rug=True, color=\"g\", ax=axes[2])"
   ]
  },
  {
   "cell_type": "markdown",
   "metadata": {},
   "source": [
    "# Correlation analysis"
   ]
  },
  {
   "cell_type": "markdown",
   "metadata": {},
   "source": [
    "## Normalizing stats"
   ]
  },
  {
   "cell_type": "code",
   "execution_count": 42,
   "metadata": {},
   "outputs": [],
   "source": [
    "normalizer = Normalizer()"
   ]
  },
  {
   "cell_type": "code",
   "execution_count": 43,
   "metadata": {},
   "outputs": [],
   "source": [
    "df_full_stats_normalised = pd.DataFrame(normalizer.transform(df_full_stats), columns=df_full_stats.columns)"
   ]
  },
  {
   "cell_type": "markdown",
   "metadata": {},
   "source": [
    "## pairwise relationships between features"
   ]
  },
  {
   "cell_type": "code",
   "execution_count": 44,
   "metadata": {},
   "outputs": [
    {
     "data": {
      "image/png": "[encoded data removed]",
      "text/plain": [
       "<Figure size 900x900 with 25 Axes>"
      ]
     },
     "metadata": {},
     "output_type": "display_data"
    }
   ],
   "source": [
    "g = sns.PairGrid(df_full_stats_normalised)\n",
    "g = g.map(plt.scatter)"
   ]
  },
  {
   "cell_type": "markdown",
   "metadata": {},
   "source": [
    "## Correlation between mean knowledge accuracy and total number of actions"
   ]
  },
  {
   "cell_type": "code",
   "execution_count": 45,
   "metadata": {},
   "outputs": [
    {
     "data": {
      "text/plain": [
       "(-0.810086471995704, 1.5366778761060397e-15)"
      ]
     },
     "execution_count": 45,
     "metadata": {},
     "output_type": "execute_result"
    }
   ],
   "source": [
    "pearsonr(df_full_stats_normalised.meanKnow, df_full_stats_normalised.totalAct)"
   ]
  },
  {
   "cell_type": "markdown",
   "metadata": {},
   "source": [
    "## Correlation between mean knowledge accuracy and ratio of afel actions on total number of actions"
   ]
  },
  {
   "cell_type": "code",
   "execution_count": 46,
   "metadata": {},
   "outputs": [
    {
     "data": {
      "text/plain": [
       "(0.6827418123675907, 9.817821836641312e-10)"
      ]
     },
     "execution_count": 46,
     "metadata": {},
     "output_type": "execute_result"
    }
   ],
   "source": [
    "pearsonr(df_full_stats_normalised.meanKnow, df_full_stats_normalised.afelActRatio)"
   ]
  },
  {
   "cell_type": "markdown",
   "metadata": {},
   "source": [
    "WTF! Negative significative correlations, seriously?!"
   ]
  },
  {
   "cell_type": "code",
   "execution_count": null,
   "metadata": {},
   "outputs": [],
   "source": []
  }
 ],
 "metadata": {
  "kernelspec": {
   "display_name": "AFEL analysis",
   "language": "python",
   "name": "venv"
  },
  "language_info": {
   "codemirror_mode": {
    "name": "ipython",
    "version": 3
   },
   "file_extension": ".py",
   "mimetype": "text/x-python",
   "name": "python",
   "nbconvert_exporter": "python",
   "pygments_lexer": "ipython3",
   "version": "3.6.5"
  }
 },
 "nbformat": 4,
 "nbformat_minor": 2
}
