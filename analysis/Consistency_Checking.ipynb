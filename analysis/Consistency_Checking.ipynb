{
 "cells": [
  {
   "cell_type": "markdown",
   "metadata": {},
   "source": [
    "# Consistency Checking"
   ]
  },
  {
   "cell_type": "markdown",
   "metadata": {},
   "source": [
    "This script tests that timestamp of traces are consistant."
   ]
  },
  {
   "cell_type": "markdown",
   "metadata": {},
   "source": [
    "# Import & Constants"
   ]
  },
  {
   "cell_type": "markdown",
   "metadata": {},
   "source": [
    "## Fuseki Endpoint : you might want to change it!"
   ]
  },
  {
   "cell_type": "code",
   "execution_count": 1,
   "metadata": {},
   "outputs": [],
   "source": [
    "FUSEKI_DATASET = \"evalafel\" # Change according your own dataset name\n",
    "SPARQL_ENDPOINT = \"http://localhost:3030/%s/query\" % FUSEKI_DATASET"
   ]
  },
  {
   "cell_type": "markdown",
   "metadata": {},
   "source": [
    "## Imports, constants settings"
   ]
  },
  {
   "cell_type": "code",
   "execution_count": 2,
   "metadata": {},
   "outputs": [],
   "source": [
    "from SPARQLWrapper import SPARQLWrapper, CSV\n",
    "from rdflib import Literal\n",
    "import numpy as np\n",
    "import pandas as pd\n",
    "from io import BytesIO\n",
    "import datetime\n",
    "import gc\n",
    "import matplotlib.dates as plt_dates\n",
    "import matplotlib.pyplot as plt\n",
    "import dateutil\n",
    "import seaborn as sns\n",
    "from sklearn.preprocessing import Normalizer\n",
    "from scipy.stats import pearsonr"
   ]
  },
  {
   "cell_type": "code",
   "execution_count": 3,
   "metadata": {},
   "outputs": [],
   "source": [
    "SPARQL_PREFIX = \"\"\"\n",
    "    PREFIX xsd: <http://www.w3.org/2001/XMLSchema#>\n",
    "    PREFIX rdf: <http://www.w3.org/1999/02/22-rdf-syntax-ns#>\n",
    "    PREFIX rdfs: <http://www.w3.org/2000/01/rdf-schema#>\n",
    "    PREFIX extafl: <http://vocab.afel-project.eu/extension/>\n",
    "    PREFIX afl: <http://vocab.afel-project.eu/>\n",
    "    PREFIX sch: <http://schema.org/>\n",
    "    \n",
    "\"\"\""
   ]
  },
  {
   "cell_type": "code",
   "execution_count": 4,
   "metadata": {},
   "outputs": [],
   "source": [
    "# Setting seaborn to have proper visualisation adapted to jupyter notebook\n",
    "sns.set_context(\"notebook\", font_scale=1.5, rc={\"lines.linewidth\": 2.5})"
   ]
  },
  {
   "cell_type": "code",
   "execution_count": 5,
   "metadata": {},
   "outputs": [],
   "source": [
    "def sparql_to_dataframe(query, **kwargs):\n",
    "    sparql = SPARQLWrapper(SPARQL_ENDPOINT)\n",
    "    sparql.setQuery(query)\n",
    "    sparql.setReturnFormat(CSV)\n",
    "    res = sparql.query().convert()\n",
    "    try:\n",
    "        with BytesIO(res) as sio:\n",
    "            return pd.read_csv(sio, **kwargs)\n",
    "    finally:\n",
    "        del res\n",
    "        gc.collect()"
   ]
  },
  {
   "cell_type": "markdown",
   "metadata": {},
   "source": [
    "# Plot Didact. & Afel App. activities over time"
   ]
  },
  {
   "cell_type": "code",
   "execution_count": 6,
   "metadata": {},
   "outputs": [],
   "source": [
    "def get_activities_times():\n",
    "    query = SPARQL_PREFIX + \"\"\"\n",
    "    SELECT ?time ?location (COUNT(?id) as ?nbAct)\n",
    "    WHERE {\n",
    "        $activity afl:eventID ?id .\n",
    "        $activity rdf:type ?activityType .\n",
    "        $activity afl:eventEndDate ?time .\n",
    "        $activity sch:location ?location .\n",
    "    }\n",
    "    GROUP BY ?time ?location\n",
    "    ORDER BY ?time\n",
    "    \"\"\"\n",
    "    return sparql_to_dataframe(query, parse_dates=[0])"
   ]
  },
  {
   "cell_type": "code",
   "execution_count": 7,
   "metadata": {},
   "outputs": [],
   "source": [
    "df_act = get_activities_times()"
   ]
  },
  {
   "cell_type": "code",
   "execution_count": 8,
   "metadata": {},
   "outputs": [],
   "source": [
    "df_act_dida = df_act.loc[df_act.location == 'https://didactalia.net',('time', 'nbAct')].groupby(pd.Grouper(key='time', freq='1H')).sum().reset_index()"
   ]
  },
  {
   "cell_type": "code",
   "execution_count": 9,
   "metadata": {},
   "outputs": [],
   "source": [
    "df_act_afel = df_act.loc[df_act.location == 'http://afel-project.eu/',('time', 'nbAct')].groupby(pd.Grouper(key='time', freq='1H')).sum().reset_index()"
   ]
  },
  {
   "cell_type": "code",
   "execution_count": 10,
   "metadata": {},
   "outputs": [],
   "source": [
    "def draw_act_over_time(dida, afel):\n",
    "    dts_dida = plt_dates.date2num(dida.time.values)\n",
    "    dts_afel = plt_dates.date2num(afel.time.values)\n",
    "    fig = plt.figure(figsize=(20,3))\n",
    "    plt.plot_date(dts_dida, dida.nbAct.values, fmt='r', linewidth=2)\n",
    "    plt.plot_date(dts_afel, afel.nbAct.values, fmt='b', linewidth=2)\n",
    "    fig.show()"
   ]
  },
  {
   "cell_type": "code",
   "execution_count": 11,
   "metadata": {},
   "outputs": [
    {
     "name": "stderr",
     "output_type": "stream",
     "text": [
      "/Users/venant/DEVELOPPEMENT/COURANT/Galway/AFEL_Evaluation2/venv/lib/python3.6/site-packages/matplotlib/figure.py:459: UserWarning: matplotlib is currently using a non-GUI backend, so cannot show the figure\n",
      "  \"matplotlib is currently using a non-GUI backend, \"\n"
     ]
    },
    {
     "data": {
      "image/png": "[encoded data removed]",
      "text/plain": [
       "<Figure size 1440x216 with 1 Axes>"
      ]
     },
     "metadata": {},
     "output_type": "display_data"
    }
   ],
   "source": [
    "draw_act_over_time(df_act_dida, df_act_afel)"
   ]
  },
  {
   "cell_type": "code",
   "execution_count": 12,
   "metadata": {},
   "outputs": [
    {
     "data": {
      "text/plain": [
       "2184"
      ]
     },
     "execution_count": 12,
     "metadata": {},
     "output_type": "execute_result"
    }
   ],
   "source": [
    "del df_act, df_act_dida, df_act_afel\n",
    "gc.collect()"
   ]
  },
  {
   "cell_type": "markdown",
   "metadata": {},
   "source": [
    "# Check that activities happened during the knowledge test"
   ]
  },
  {
   "cell_type": "code",
   "execution_count": 13,
   "metadata": {},
   "outputs": [],
   "source": [
    "def get_learners_test_times():\n",
    "    query = SPARQL_PREFIX + \"\"\"\n",
    "    SELECT ?username (MIN(?time) AS ?preTime) (MAX(?time) AS ?postTime)\n",
    "    WHERE {\n",
    "        $action a sch:ChooseAction .\n",
    "        $action sch:object $question .\n",
    "        $action sch:agent $user .\n",
    "        $question a sch:Question .\n",
    "        $user a afl:User .\n",
    "        $question sch:isPartOf $quest .\n",
    "        $quest a extafl:Questionnaire .\n",
    "        $action sch:endTime ?time .\n",
    "        $quest sch:identifier ?questId .\n",
    "        $user afl:userName ?username .\n",
    "        FILTER regex(?questId, \"^AFEL_2_KNOW\") .\n",
    "    }\n",
    "    GROUP BY ?username\n",
    "    ORDER BY ?pretTime ?postTime\n",
    "    \"\"\"\n",
    "    return sparql_to_dataframe(query, parse_dates=[1, 2])"
   ]
  },
  {
   "cell_type": "code",
   "execution_count": 14,
   "metadata": {},
   "outputs": [],
   "source": [
    "def get_learners_acitivity_times():\n",
    "    query = SPARQL_PREFIX + \"\"\"\n",
    "    SELECT ?username ?time ?location ?activityType\n",
    "    WHERE {\n",
    "        $activity rdf:type ?activityType .\n",
    "        $activity afl:eventEndDate ?time .\n",
    "        $activity sch:location ?location .\n",
    "        $activity afl:user $user .\n",
    "        $user afl:userName ?username .\n",
    "        FILTER(?activityType IN (afl:ArtifactView, afl:Search, afl:DidactaliaGamePlayed, extafl:RecommendedActivityView, extafl:ScopeView)) .\n",
    "    }\n",
    "    ORDER BY ?time\n",
    "    \"\"\"\n",
    "    return sparql_to_dataframe(query, parse_dates=[1])"
   ]
  },
  {
   "cell_type": "code",
   "execution_count": 15,
   "metadata": {},
   "outputs": [],
   "source": [
    "df_test_times = get_learners_test_times() "
   ]
  },
  {
   "cell_type": "code",
   "execution_count": 16,
   "metadata": {},
   "outputs": [],
   "source": [
    "df_lear_act_times = get_learners_acitivity_times()"
   ]
  },
  {
   "cell_type": "code",
   "execution_count": 17,
   "metadata": {},
   "outputs": [],
   "source": [
    "df_lear_act_times.activityType = df_lear_act_times.activityType.str.split('/').str.get(-1).str.lower()"
   ]
  },
  {
   "cell_type": "code",
   "execution_count": 18,
   "metadata": {},
   "outputs": [],
   "source": [
    "df_merged = pd.merge(df_lear_act_times, df_test_times, how='left', on='username', validate='many_to_one')"
   ]
  },
  {
   "cell_type": "code",
   "execution_count": 19,
   "metadata": {},
   "outputs": [],
   "source": [
    "df_merged['catTime'] = 0\n",
    "df_merged.loc[df_merged.time < df_merged.preTime, 'catTime'] = -1\n",
    "df_merged.loc[df_merged.time > df_merged.postTime, 'catTime'] = 1"
   ]
  },
  {
   "cell_type": "code",
   "execution_count": 20,
   "metadata": {},
   "outputs": [
    {
     "data": {
      "text/html": [
       "<div>\n",
       "<style scoped>\n",
       "    .dataframe tbody tr th:only-of-type {\n",
       "        vertical-align: middle;\n",
       "    }\n",
       "\n",
       "    .dataframe tbody tr th {\n",
       "        vertical-align: top;\n",
       "    }\n",
       "\n",
       "    .dataframe thead th {\n",
       "        text-align: right;\n",
       "    }\n",
       "</style>\n",
       "<table border=\"1\" class=\"dataframe\">\n",
       "  <thead>\n",
       "    <tr style=\"text-align: right;\">\n",
       "      <th></th>\n",
       "      <th></th>\n",
       "      <th>username</th>\n",
       "    </tr>\n",
       "    <tr>\n",
       "      <th>catTime</th>\n",
       "      <th>location</th>\n",
       "      <th></th>\n",
       "    </tr>\n",
       "  </thead>\n",
       "  <tbody>\n",
       "    <tr>\n",
       "      <th>-1</th>\n",
       "      <th>https://didactalia.net</th>\n",
       "      <td>145</td>\n",
       "    </tr>\n",
       "    <tr>\n",
       "      <th rowspan=\"2\" valign=\"top\">0</th>\n",
       "      <th>http://afel-project.eu/</th>\n",
       "      <td>2</td>\n",
       "    </tr>\n",
       "    <tr>\n",
       "      <th>https://didactalia.net</th>\n",
       "      <td>1123</td>\n",
       "    </tr>\n",
       "    <tr>\n",
       "      <th rowspan=\"2\" valign=\"top\">1</th>\n",
       "      <th>http://afel-project.eu/</th>\n",
       "      <td>273</td>\n",
       "    </tr>\n",
       "    <tr>\n",
       "      <th>https://didactalia.net</th>\n",
       "      <td>1320</td>\n",
       "    </tr>\n",
       "  </tbody>\n",
       "</table>\n",
       "</div>"
      ],
      "text/plain": [
       "                                 username\n",
       "catTime location                         \n",
       "-1      https://didactalia.net        145\n",
       " 0      http://afel-project.eu/         2\n",
       "        https://didactalia.net       1123\n",
       " 1      http://afel-project.eu/       273\n",
       "        https://didactalia.net       1320"
      ]
     },
     "execution_count": 20,
     "metadata": {},
     "output_type": "execute_result"
    }
   ],
   "source": [
    "df_merged.loc[:,('username', 'location', 'catTime')].groupby(['catTime', 'location']).count()"
   ]
  }
 ],
 "metadata": {
  "kernelspec": {
   "display_name": "AFEL analysis",
   "language": "python",
   "name": "venv"
  },
  "language_info": {
   "codemirror_mode": {
    "name": "ipython",
    "version": 3
   },
   "file_extension": ".py",
   "mimetype": "text/x-python",
   "name": "python",
   "nbconvert_exporter": "python",
   "pygments_lexer": "ipython3",
   "version": "3.6.5"
  }
 },
 "nbformat": 4,
 "nbformat_minor": 2
}
