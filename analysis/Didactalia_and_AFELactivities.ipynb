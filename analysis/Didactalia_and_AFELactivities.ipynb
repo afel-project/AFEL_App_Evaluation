{
 "cells": [
  {
   "cell_type": "markdown",
   "metadata": {},
   "source": [
    "# Didactalia & AFEL activities"
   ]
  },
  {
   "cell_type": "markdown",
   "metadata": {},
   "source": [
    "In this anaysis, we study the relations that may exist between the use of Didactalia and the use of the AFEL App."
   ]
  },
  {
   "cell_type": "markdown",
   "metadata": {},
   "source": [
    "# Import & Constants"
   ]
  },
  {
   "cell_type": "markdown",
   "metadata": {},
   "source": [
    "## Fuseki Endpoint : you might want to change it!"
   ]
  },
  {
   "cell_type": "code",
   "execution_count": 1,
   "metadata": {},
   "outputs": [],
   "source": [
    "FUSEKI_DATASET = \"evalafel\" # Change according your own dataset name\n",
    "SPARQL_ENDPOINT = \"http://localhost:3030/%s/query\" % FUSEKI_DATASET"
   ]
  },
  {
   "cell_type": "markdown",
   "metadata": {},
   "source": [
    "## Imports, constants settings"
   ]
  },
  {
   "cell_type": "code",
   "execution_count": 2,
   "metadata": {},
   "outputs": [],
   "source": [
    "from SPARQLWrapper import SPARQLWrapper, CSV\n",
    "from rdflib import Literal\n",
    "import numpy as np\n",
    "import pandas as pd\n",
    "from io import BytesIO\n",
    "import gc\n",
    "import matplotlib.pyplot as plt\n",
    "import seaborn as sns\n",
    "from sklearn.preprocessing import Normalizer\n",
    "from scipy.stats import pearsonr\n",
    "from sklearn.linear_model import LinearRegression"
   ]
  },
  {
   "cell_type": "code",
   "execution_count": 3,
   "metadata": {},
   "outputs": [],
   "source": [
    "SPARQL_PREFIX = \"\"\"\n",
    "    PREFIX xsd: <http://www.w3.org/2001/XMLSchema#>\n",
    "    PREFIX rdf: <http://www.w3.org/1999/02/22-rdf-syntax-ns#>\n",
    "    PREFIX rdfs: <http://www.w3.org/2000/01/rdf-schema#>\n",
    "    PREFIX afl: <http://vocab.afel-project.eu/>\n",
    "    PREFIX extafl: <http://vocab.afel-project.eu/extension/>\n",
    "    PREFIX sch: <http://schema.org/>\n",
    "\"\"\""
   ]
  },
  {
   "cell_type": "code",
   "execution_count": 4,
   "metadata": {},
   "outputs": [],
   "source": [
    "# Setting seaborn to have proper visualisation adapted to jupyter notebook\n",
    "sns.set_context(\"notebook\", font_scale=1.5, rc={\"lines.linewidth\": 2.5})"
   ]
  },
  {
   "cell_type": "code",
   "execution_count": 5,
   "metadata": {},
   "outputs": [],
   "source": [
    "def sparql_to_dataframe(query, **kwargs):\n",
    "    sparql = SPARQLWrapper(SPARQL_ENDPOINT)\n",
    "    sparql.setQuery(query)\n",
    "    sparql.setReturnFormat(CSV)\n",
    "    res = sparql.query().convert()\n",
    "    try:\n",
    "        with BytesIO(res) as sio:\n",
    "            return pd.read_csv(sio, **kwargs)\n",
    "    finally:\n",
    "        del res\n",
    "        gc.collect()"
   ]
  },
  {
   "cell_type": "markdown",
   "metadata": {},
   "source": [
    "# Activities Extraction"
   ]
  },
  {
   "cell_type": "code",
   "execution_count": 6,
   "metadata": {},
   "outputs": [],
   "source": [
    "def retrieve_users_activities():\n",
    "    \"\"\"\n",
    "    Retrieve following activities:\n",
    "        - didactlia: Artifact view, game played, search\n",
    "        - AFEL App: Artifact view, RecommendedArtifact view\n",
    "    \"\"\"\n",
    "    query = SPARQL_PREFIX + \"\"\"\n",
    "    SELECT ?userid ?location ?activityType ?actStartTime ?actEndTime\n",
    "    WHERE {\n",
    "        ?activity a ?activityType .\n",
    "        ?activity afl:user ?user .\n",
    "        ?activity afl:eventStartDate ?actStartTime .\n",
    "        ?activity afl:eventEndDate ?actEndTime .\n",
    "        ?activity sch:location ?location .\n",
    "        ?user afl:userName ?userid .\n",
    "        FILTER(?activityType IN (afl:ArtifactView, extafl:DidactaliaGamePlayed, afl:Search, extafl:RecommendedArtifactView, extafl:ScopeView))\n",
    "    }\n",
    "    \"\"\"\n",
    "    return sparql_to_dataframe(query, parse_dates=[3, 4])"
   ]
  },
  {
   "cell_type": "code",
   "execution_count": 7,
   "metadata": {},
   "outputs": [],
   "source": [
    "def extract_users_activities(df, copy = False):\n",
    "    if copy:\n",
    "        df = df.copy()\n",
    "    # Simplify users' ids\n",
    "    df['userid'] = np.vectorize(int)(df.userid.str.extract('project.afel\\+(\\d+)', expand=False))\n",
    "    # Simplify activityType\n",
    "    df.activityType = df.activityType.str.split('/').str.get(-1)\n",
    "    # Simplify location name\n",
    "    df.loc[df.location == \"https://didactalia.net\", 'location'] = \"didactalia\"\n",
    "    df.loc[df.location != \"didactalia\", 'location'] = \"afel\"\n",
    "    # Sort by userid and actStartTime\n",
    "    df.sort_values(['userid', 'actStartTime'], inplace=True)\n",
    "    return df"
   ]
  },
  {
   "cell_type": "markdown",
   "metadata": {},
   "source": [
    "# Activity duration computation"
   ]
  },
  {
   "cell_type": "code",
   "execution_count": 8,
   "metadata": {},
   "outputs": [],
   "source": [
    "def compute_duration(df, drop_na = False, copy = False):\n",
    "    if copy:\n",
    "        df = df.copy()\n",
    "    # Add shifted copy of userid and actStartTime\n",
    "    for col in ['userid', 'actStartTime']:\n",
    "        df[col + '_next'] = df[col].shift(-1)\n",
    "    # Add an false int indicator to the userid_next last line and reconvert the column to int \n",
    "    df.iloc[df.shape[0] - 1, np.where(df.columns == 'userid_next')[0][0]] = -1\n",
    "    df.userid_next = df.userid_next.astype(int)\n",
    "    # Compute duration of activities\n",
    "    df['actTime'] = np.NaN\n",
    "    # If we have the same userId & catQuest for the activity and the next, then we compute the difference \n",
    "    df.loc[df.userid == df.userid_next, 'actTime'] = (df.actStartTime_next - df.actStartTime) / np.timedelta64(1, 's')\n",
    "    # If startTime is strictly before endTime, use them to compute length (careful : conversion is done in nanosec)\n",
    "    df.loc[df.actStartTime < df.actEndTime,'actTime'] = (df.actEndTime - df.actStartTime) / np.timedelta64(1, 's')\n",
    "    # delete temporary columns\n",
    "    del df['userid_next'], df['actStartTime_next']\n",
    "    # we drop trace whose length was not able to be computed\n",
    "    if drop_na:\n",
    "        old_len = df.shape[0]\n",
    "        df.dropna(inplace=True)\n",
    "        if old_len > df.shape[0]:\n",
    "            print(\"Dropped %d samples that do not have any length\" % (old_len - df.shape[0]))\n",
    "    else:\n",
    "        df.fillna(0, inplace=True)\n",
    "    return df"
   ]
  },
  {
   "cell_type": "code",
   "execution_count": 9,
   "metadata": {},
   "outputs": [],
   "source": [
    "DF_ACT = compute_duration(extract_users_activities(retrieve_users_activities()))"
   ]
  },
  {
   "cell_type": "markdown",
   "metadata": {},
   "source": [
    "# Compute independent and dependent variables"
   ]
  },
  {
   "cell_type": "markdown",
   "metadata": {},
   "source": [
    "We compute all features by user: \n",
    "- number of didactalia activities\n",
    "- total duration of didactalia activities\n",
    "- mean / stddev duration of didactalia activities\n",
    "- number of afel activities\n",
    "- toal duration of afel activities\n",
    "- mean / stddev duration of afel activities"
   ]
  },
  {
   "cell_type": "code",
   "execution_count": 10,
   "metadata": {},
   "outputs": [],
   "source": [
    "def split_by_location(df):\n",
    "    others_columns = list(filter(lambda x: x != 'location', df.columns))\n",
    "    df_didactalia = df.loc[df.location == 'didactalia', others_columns]\n",
    "    df_afel = df.loc[df.location == 'afel', others_columns]\n",
    "    return df_didactalia, df_afel"
   ]
  },
  {
   "cell_type": "code",
   "execution_count": 11,
   "metadata": {},
   "outputs": [],
   "source": [
    "def compute_num_act_features(df, suffix):\n",
    "    suffix = '_' + suffix\n",
    "    return df.loc[:,['userid', 'activityType']].groupby('userid').count()\\\n",
    "    .rename(columns={'activityType':'nbAct' + suffix})"
   ]
  },
  {
   "cell_type": "code",
   "execution_count": 12,
   "metadata": {},
   "outputs": [],
   "source": [
    "def compute_duration_features(df, suffix):\n",
    "    suffix = '_' + suffix\n",
    "    # total and mean duration of didactalia activities\n",
    "    df2 = df.loc[:,['userid', 'actTime']].groupby('userid')\\\n",
    "    .agg([np.sum, np.mean, np.std])\\\n",
    "    .rename(columns={'sum':'actTimeSum' + suffix, 'mean':'actTimeMean' + suffix, 'std':'actTimeStd' + suffix}) \n",
    "    df2.columns = df2.columns.droplevel()\n",
    "    return df2"
   ]
  },
  {
   "cell_type": "code",
   "execution_count": 13,
   "metadata": {},
   "outputs": [],
   "source": [
    "def merge_features(*dfs):\n",
    "    df_merged = dfs[0]\n",
    "    for df in dfs[1:]:\n",
    "        df_merged = pd.merge(df_merged, df, on='userid', validate='one_to_one')\n",
    "    return df_merged"
   ]
  },
  {
   "cell_type": "markdown",
   "metadata": {},
   "source": [
    "# Process"
   ]
  },
  {
   "cell_type": "code",
   "execution_count": 14,
   "metadata": {},
   "outputs": [],
   "source": [
    "DF_ACT = extract_users_activities(retrieve_users_activities()) # Get users activities on didactalia and afel"
   ]
  },
  {
   "cell_type": "code",
   "execution_count": 15,
   "metadata": {},
   "outputs": [],
   "source": [
    "# Compute number of activity\n",
    "DF_DIDACTALIA_NUMACT, DF_AFEL_NUMACT = split_by_location(DF_ACT)\n",
    "DF_DIDACTALIA_NUMACT = compute_num_act_features(DF_DIDACTALIA_NUMACT, 'dida')\n",
    "DF_AFEL_NUMACT = compute_num_act_features(DF_AFEL_NUMACT, 'afel')"
   ]
  },
  {
   "cell_type": "code",
   "execution_count": 16,
   "metadata": {},
   "outputs": [
    {
     "name": "stdout",
     "output_type": "stream",
     "text": [
      "Dropped 74 samples that do not have any length\n"
     ]
    }
   ],
   "source": [
    "# Compute stats of activity duration\n",
    "DF_ACT_DUR = compute_duration(DF_ACT, copy=True, drop_na=True)\n",
    "DF_DIDACTALIA_DURACT, DF_AFEL_DURACT = split_by_location(DF_ACT_DUR)\n",
    "DF_DIDACTALIA_DURACT = compute_duration_features(DF_DIDACTALIA_DURACT, 'dida')\n",
    "DF_AFEL_DURACT = compute_duration_features(DF_AFEL_DURACT, 'afel')"
   ]
  },
  {
   "cell_type": "code",
   "execution_count": 17,
   "metadata": {},
   "outputs": [],
   "source": [
    "# Merge datasets\n",
    "DF_ALL = merge_features(DF_DIDACTALIA_NUMACT, DF_AFEL_NUMACT, DF_DIDACTALIA_DURACT, DF_AFEL_DURACT)"
   ]
  },
  {
   "cell_type": "markdown",
   "metadata": {},
   "source": [
    "# Analyzes potential correlations"
   ]
  },
  {
   "cell_type": "code",
   "execution_count": 18,
   "metadata": {},
   "outputs": [],
   "source": [
    "def analyze_afel_dida(df):\n",
    "    for afel_var in filter(lambda x: x.endswith('afel'), df.columns):\n",
    "        for dida_var in filter(lambda x: x.endswith('dida'), df.columns):\n",
    "            print(\"%s ~ %s\" % (afel_var.upper(), dida_var.upper()))\n",
    "            r, pval = pearsonr(df[afel_var], df[dida_var])\n",
    "            suffix = '***' if pval < .05 else ''\n",
    "            print(\"   r = %.3f p-val = %.3f %s\" % (r, pval, suffix))"
   ]
  },
  {
   "cell_type": "code",
   "execution_count": 19,
   "metadata": {},
   "outputs": [
    {
     "name": "stdout",
     "output_type": "stream",
     "text": [
      "NBACT_AFEL ~ NBACT_DIDA\n",
      "   r = 0.065 p-val = 0.613 \n",
      "NBACT_AFEL ~ ACTTIMESUM_DIDA\n",
      "   r = -0.040 p-val = 0.755 \n",
      "NBACT_AFEL ~ ACTTIMEMEAN_DIDA\n",
      "   r = -0.026 p-val = 0.840 \n",
      "NBACT_AFEL ~ ACTTIMESTD_DIDA\n",
      "   r = -0.100 p-val = 0.440 \n",
      "ACTTIMESUM_AFEL ~ NBACT_DIDA\n",
      "   r = 0.065 p-val = 0.616 \n",
      "ACTTIMESUM_AFEL ~ ACTTIMESUM_DIDA\n",
      "   r = -0.048 p-val = 0.711 \n",
      "ACTTIMESUM_AFEL ~ ACTTIMEMEAN_DIDA\n",
      "   r = -0.061 p-val = 0.640 \n",
      "ACTTIMESUM_AFEL ~ ACTTIMESTD_DIDA\n",
      "   r = 0.007 p-val = 0.959 \n",
      "ACTTIMEMEAN_AFEL ~ NBACT_DIDA\n",
      "   r = 0.061 p-val = 0.640 \n",
      "ACTTIMEMEAN_AFEL ~ ACTTIMESUM_DIDA\n",
      "   r = -0.047 p-val = 0.716 \n",
      "ACTTIMEMEAN_AFEL ~ ACTTIMEMEAN_DIDA\n",
      "   r = -0.060 p-val = 0.644 \n",
      "ACTTIMEMEAN_AFEL ~ ACTTIMESTD_DIDA\n",
      "   r = 0.007 p-val = 0.957 \n",
      "ACTTIMESTD_AFEL ~ NBACT_DIDA\n",
      "   r = nan p-val = 1.000 \n",
      "ACTTIMESTD_AFEL ~ ACTTIMESUM_DIDA\n",
      "   r = nan p-val = 1.000 \n",
      "ACTTIMESTD_AFEL ~ ACTTIMEMEAN_DIDA\n",
      "   r = nan p-val = 1.000 \n",
      "ACTTIMESTD_AFEL ~ ACTTIMESTD_DIDA\n",
      "   r = nan p-val = 1.000 \n"
     ]
    }
   ],
   "source": [
    "analyze_afel_dida(DF_ALL)"
   ]
  },
  {
   "cell_type": "code",
   "execution_count": 20,
   "metadata": {},
   "outputs": [
    {
     "data": {
      "text/plain": [
       "<seaborn.axisgrid.FacetGrid at 0x119c6f3c8>"
      ]
     },
     "execution_count": 20,
     "metadata": {},
     "output_type": "execute_result"
    },
    {
     "data": {
      "image/png": "[encoded data removed]",
      "text/plain": [
       "<Figure size 360x360 with 1 Axes>"
      ]
     },
     "metadata": {},
     "output_type": "display_data"
    }
   ],
   "source": [
    "sns.lmplot(x='nbAct_dida', y='nbAct_afel', data=DF_ALL)"
   ]
  }
 ],
 "metadata": {
  "kernelspec": {
   "display_name": "AFEL analysis",
   "language": "python",
   "name": "venv"
  },
  "language_info": {
   "codemirror_mode": {
    "name": "ipython",
    "version": 3
   },
   "file_extension": ".py",
   "mimetype": "text/x-python",
   "name": "python",
   "nbconvert_exporter": "python",
   "pygments_lexer": "ipython3",
   "version": "3.6.5"
  }
 },
 "nbformat": 4,
 "nbformat_minor": 2
}
